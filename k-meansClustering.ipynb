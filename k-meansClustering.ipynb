{
 "cells": [
  {
   "cell_type": "code",
   "execution_count": 1,
   "id": "9426fb14",
   "metadata": {},
   "outputs": [],
   "source": [
    "import pandas as pd"
   ]
  },
  {
   "cell_type": "code",
   "execution_count": 2,
   "id": "3fb9093c",
   "metadata": {},
   "outputs": [],
   "source": [
    "import matplotlib.pyplot as plt"
   ]
  },
  {
   "cell_type": "code",
   "execution_count": 3,
   "id": "32dd9f56",
   "metadata": {},
   "outputs": [],
   "source": [
    "import seaborn as sns"
   ]
  },
  {
   "cell_type": "code",
   "execution_count": 4,
   "id": "470bf076",
   "metadata": {},
   "outputs": [
    {
     "ename": "AttributeError",
     "evalue": "module 'os' has no attribute 'enviorn'",
     "output_type": "error",
     "traceback": [
      "\u001b[1;31m---------------------------------------------------------------------------\u001b[0m",
      "\u001b[1;31mAttributeError\u001b[0m                            Traceback (most recent call last)",
      "Cell \u001b[1;32mIn[4], line 2\u001b[0m\n\u001b[0;32m      1\u001b[0m \u001b[38;5;28;01mimport\u001b[39;00m \u001b[38;5;21;01mos\u001b[39;00m\n\u001b[1;32m----> 2\u001b[0m os\u001b[38;5;241m.\u001b[39menviorn[\u001b[38;5;124m\"\u001b[39m\u001b[38;5;124mOMP_NUM_THREADS\u001b[39m\u001b[38;5;124m\"\u001b[39m] \u001b[38;5;241m=\u001b[39m \u001b[38;5;124m'\u001b[39m\u001b[38;5;124m1\u001b[39m\u001b[38;5;124m'\u001b[39m\n",
      "\u001b[1;31mAttributeError\u001b[0m: module 'os' has no attribute 'enviorn'"
     ]
    }
   ],
   "source": [
    "\n",
    "import os\n",
    "os.enviorn[\"OMP_NUM_THREADS\"] = '1'\n"
   ]
  },
  {
   "cell_type": "code",
   "execution_count": 5,
   "id": "7e1ca0ee",
   "metadata": {},
   "outputs": [],
   "source": [
    "from sklearn.cluster import KMeans\n"
   ]
  },
  {
   "cell_type": "code",
   "execution_count": 6,
   "id": "348b37c1",
   "metadata": {},
   "outputs": [],
   "source": [
    "df=pd.read_csv(\"Mall_Customers.csv\")"
   ]
  },
  {
   "cell_type": "code",
   "execution_count": 7,
   "id": "45bd1263",
   "metadata": {},
   "outputs": [
    {
     "data": {
      "text/html": [
       "<div>\n",
       "<style scoped>\n",
       "    .dataframe tbody tr th:only-of-type {\n",
       "        vertical-align: middle;\n",
       "    }\n",
       "\n",
       "    .dataframe tbody tr th {\n",
       "        vertical-align: top;\n",
       "    }\n",
       "\n",
       "    .dataframe thead th {\n",
       "        text-align: right;\n",
       "    }\n",
       "</style>\n",
       "<table border=\"1\" class=\"dataframe\">\n",
       "  <thead>\n",
       "    <tr style=\"text-align: right;\">\n",
       "      <th></th>\n",
       "      <th>CustomerID</th>\n",
       "      <th>Gender</th>\n",
       "      <th>Age</th>\n",
       "      <th>Annual Income (k$)</th>\n",
       "      <th>Spending Score (1-100)</th>\n",
       "    </tr>\n",
       "  </thead>\n",
       "  <tbody>\n",
       "    <tr>\n",
       "      <th>0</th>\n",
       "      <td>1</td>\n",
       "      <td>Male</td>\n",
       "      <td>19</td>\n",
       "      <td>15</td>\n",
       "      <td>39</td>\n",
       "    </tr>\n",
       "    <tr>\n",
       "      <th>1</th>\n",
       "      <td>2</td>\n",
       "      <td>Male</td>\n",
       "      <td>21</td>\n",
       "      <td>15</td>\n",
       "      <td>81</td>\n",
       "    </tr>\n",
       "    <tr>\n",
       "      <th>2</th>\n",
       "      <td>3</td>\n",
       "      <td>Female</td>\n",
       "      <td>20</td>\n",
       "      <td>16</td>\n",
       "      <td>6</td>\n",
       "    </tr>\n",
       "    <tr>\n",
       "      <th>3</th>\n",
       "      <td>4</td>\n",
       "      <td>Female</td>\n",
       "      <td>23</td>\n",
       "      <td>16</td>\n",
       "      <td>77</td>\n",
       "    </tr>\n",
       "    <tr>\n",
       "      <th>4</th>\n",
       "      <td>5</td>\n",
       "      <td>Female</td>\n",
       "      <td>31</td>\n",
       "      <td>17</td>\n",
       "      <td>40</td>\n",
       "    </tr>\n",
       "    <tr>\n",
       "      <th>...</th>\n",
       "      <td>...</td>\n",
       "      <td>...</td>\n",
       "      <td>...</td>\n",
       "      <td>...</td>\n",
       "      <td>...</td>\n",
       "    </tr>\n",
       "    <tr>\n",
       "      <th>195</th>\n",
       "      <td>196</td>\n",
       "      <td>Female</td>\n",
       "      <td>35</td>\n",
       "      <td>120</td>\n",
       "      <td>79</td>\n",
       "    </tr>\n",
       "    <tr>\n",
       "      <th>196</th>\n",
       "      <td>197</td>\n",
       "      <td>Female</td>\n",
       "      <td>45</td>\n",
       "      <td>126</td>\n",
       "      <td>28</td>\n",
       "    </tr>\n",
       "    <tr>\n",
       "      <th>197</th>\n",
       "      <td>198</td>\n",
       "      <td>Male</td>\n",
       "      <td>32</td>\n",
       "      <td>126</td>\n",
       "      <td>74</td>\n",
       "    </tr>\n",
       "    <tr>\n",
       "      <th>198</th>\n",
       "      <td>199</td>\n",
       "      <td>Male</td>\n",
       "      <td>32</td>\n",
       "      <td>137</td>\n",
       "      <td>18</td>\n",
       "    </tr>\n",
       "    <tr>\n",
       "      <th>199</th>\n",
       "      <td>200</td>\n",
       "      <td>Male</td>\n",
       "      <td>30</td>\n",
       "      <td>137</td>\n",
       "      <td>83</td>\n",
       "    </tr>\n",
       "  </tbody>\n",
       "</table>\n",
       "<p>200 rows × 5 columns</p>\n",
       "</div>"
      ],
      "text/plain": [
       "     CustomerID  Gender  Age  Annual Income (k$)  Spending Score (1-100)\n",
       "0             1    Male   19                  15                      39\n",
       "1             2    Male   21                  15                      81\n",
       "2             3  Female   20                  16                       6\n",
       "3             4  Female   23                  16                      77\n",
       "4             5  Female   31                  17                      40\n",
       "..          ...     ...  ...                 ...                     ...\n",
       "195         196  Female   35                 120                      79\n",
       "196         197  Female   45                 126                      28\n",
       "197         198    Male   32                 126                      74\n",
       "198         199    Male   32                 137                      18\n",
       "199         200    Male   30                 137                      83\n",
       "\n",
       "[200 rows x 5 columns]"
      ]
     },
     "execution_count": 7,
     "metadata": {},
     "output_type": "execute_result"
    }
   ],
   "source": [
    "df"
   ]
  },
  {
   "cell_type": "code",
   "execution_count": 8,
   "id": "ac3317cb",
   "metadata": {},
   "outputs": [
    {
     "data": {
      "text/html": [
       "<div>\n",
       "<style scoped>\n",
       "    .dataframe tbody tr th:only-of-type {\n",
       "        vertical-align: middle;\n",
       "    }\n",
       "\n",
       "    .dataframe tbody tr th {\n",
       "        vertical-align: top;\n",
       "    }\n",
       "\n",
       "    .dataframe thead th {\n",
       "        text-align: right;\n",
       "    }\n",
       "</style>\n",
       "<table border=\"1\" class=\"dataframe\">\n",
       "  <thead>\n",
       "    <tr style=\"text-align: right;\">\n",
       "      <th></th>\n",
       "      <th>CustomerID</th>\n",
       "      <th>Gender</th>\n",
       "      <th>Age</th>\n",
       "      <th>Annual Income (k$)</th>\n",
       "      <th>Spending Score (1-100)</th>\n",
       "    </tr>\n",
       "  </thead>\n",
       "  <tbody>\n",
       "    <tr>\n",
       "      <th>0</th>\n",
       "      <td>1</td>\n",
       "      <td>Male</td>\n",
       "      <td>19</td>\n",
       "      <td>15</td>\n",
       "      <td>39</td>\n",
       "    </tr>\n",
       "    <tr>\n",
       "      <th>1</th>\n",
       "      <td>2</td>\n",
       "      <td>Male</td>\n",
       "      <td>21</td>\n",
       "      <td>15</td>\n",
       "      <td>81</td>\n",
       "    </tr>\n",
       "    <tr>\n",
       "      <th>2</th>\n",
       "      <td>3</td>\n",
       "      <td>Female</td>\n",
       "      <td>20</td>\n",
       "      <td>16</td>\n",
       "      <td>6</td>\n",
       "    </tr>\n",
       "    <tr>\n",
       "      <th>3</th>\n",
       "      <td>4</td>\n",
       "      <td>Female</td>\n",
       "      <td>23</td>\n",
       "      <td>16</td>\n",
       "      <td>77</td>\n",
       "    </tr>\n",
       "    <tr>\n",
       "      <th>4</th>\n",
       "      <td>5</td>\n",
       "      <td>Female</td>\n",
       "      <td>31</td>\n",
       "      <td>17</td>\n",
       "      <td>40</td>\n",
       "    </tr>\n",
       "  </tbody>\n",
       "</table>\n",
       "</div>"
      ],
      "text/plain": [
       "   CustomerID  Gender  Age  Annual Income (k$)  Spending Score (1-100)\n",
       "0           1    Male   19                  15                      39\n",
       "1           2    Male   21                  15                      81\n",
       "2           3  Female   20                  16                       6\n",
       "3           4  Female   23                  16                      77\n",
       "4           5  Female   31                  17                      40"
      ]
     },
     "execution_count": 8,
     "metadata": {},
     "output_type": "execute_result"
    }
   ],
   "source": [
    "df.head()"
   ]
  },
  {
   "cell_type": "code",
   "execution_count": 10,
   "id": "8f4ea867",
   "metadata": {},
   "outputs": [
    {
     "data": {
      "text/plain": [
       "CustomerID                0\n",
       "Gender                    0\n",
       "Age                       0\n",
       "Annual Income (k$)        0\n",
       "Spending Score (1-100)    0\n",
       "dtype: int64"
      ]
     },
     "execution_count": 10,
     "metadata": {},
     "output_type": "execute_result"
    }
   ],
   "source": [
    "# To check null values\n",
    "df.isnull().sum()"
   ]
  },
  {
   "cell_type": "code",
   "execution_count": 11,
   "id": "807f5f7c",
   "metadata": {},
   "outputs": [],
   "source": [
    "# Observation there is no null value!"
   ]
  },
  {
   "cell_type": "code",
   "execution_count": 12,
   "id": "be7cd647",
   "metadata": {},
   "outputs": [
    {
     "data": {
      "text/plain": [
       "Index(['CustomerID', 'Gender', 'Age', 'Annual Income (k$)',\n",
       "       'Spending Score (1-100)'],\n",
       "      dtype='object')"
      ]
     },
     "execution_count": 12,
     "metadata": {},
     "output_type": "execute_result"
    }
   ],
   "source": [
    "df.columns"
   ]
  },
  {
   "cell_type": "code",
   "execution_count": 13,
   "id": "d439e72f",
   "metadata": {},
   "outputs": [
    {
     "data": {
      "image/png": "[encoded data removed]",
      "text/plain": [
       "<Figure size 640x480 with 1 Axes>"
      ]
     },
     "metadata": {},
     "output_type": "display_data"
    }
   ],
   "source": [
    "plt.scatter(df['Age'],df['Spending Score (1-100)'])\n",
    "plt.xlabel(\"Age\")\n",
    "plt.ylabel(\"Spending Score\")\n",
    "plt.show()\n"
   ]
  },
  {
   "cell_type": "code",
   "execution_count": 14,
   "id": "36d4dab4",
   "metadata": {},
   "outputs": [
    {
     "data": {
      "text/plain": [
       "Text(0, 0.5, 'Annual Income (k$)')"
      ]
     },
     "execution_count": 14,
     "metadata": {},
     "output_type": "execute_result"
    },
    {
     "data": {
      "image/png": "[encoded data removed]",
      "text/plain": [
       "<Figure size 640x480 with 1 Axes>"
      ]
     },
     "metadata": {},
     "output_type": "display_data"
    }
   ],
   "source": [
    "plt.scatter(df[\"Age\"],df[\"Annual Income (k$)\"])\n",
    "plt.xlabel(\"Age\")\n",
    "plt.ylabel(\"Annual Income (k$)\")"
   ]
  },
  {
   "cell_type": "code",
   "execution_count": 15,
   "id": "8ee9f3a0",
   "metadata": {},
   "outputs": [
    {
     "data": {
      "text/plain": [
       "Text(0, 0.5, 'Annual Income (k$)')"
      ]
     },
     "execution_count": 15,
     "metadata": {},
     "output_type": "execute_result"
    },
    {
     "data": {
      "image/png": "[encoded data removed]",
      "text/plain": [
       "<Figure size 640x480 with 1 Axes>"
      ]
     },
     "metadata": {},
     "output_type": "display_data"
    }
   ],
   "source": [
    "plt.scatter(df[\"Spending Score (1-100)\"], df[\"Annual Income (k$)\"])\n",
    "plt.xlabel(\"Spending Score (1-100)\")\n",
    "plt.ylabel(\"Annual Income (k$)\")"
   ]
  },
  {
   "cell_type": "code",
   "execution_count": 16,
   "id": "a0662ed1",
   "metadata": {},
   "outputs": [],
   "source": [
    "relevant_cols = [\"Age\", \"Annual Income (k$)\", \n",
    "                 \"Spending Score (1-100)\"]\n",
    "\n",
    "customer_df = df[relevant_cols]"
   ]
  },
  {
   "cell_type": "code",
   "execution_count": 17,
   "id": "28d27908",
   "metadata": {},
   "outputs": [
    {
     "data": {
      "text/html": [
       "<div>\n",
       "<style scoped>\n",
       "    .dataframe tbody tr th:only-of-type {\n",
       "        vertical-align: middle;\n",
       "    }\n",
       "\n",
       "    .dataframe tbody tr th {\n",
       "        vertical-align: top;\n",
       "    }\n",
       "\n",
       "    .dataframe thead th {\n",
       "        text-align: right;\n",
       "    }\n",
       "</style>\n",
       "<table border=\"1\" class=\"dataframe\">\n",
       "  <thead>\n",
       "    <tr style=\"text-align: right;\">\n",
       "      <th></th>\n",
       "      <th>Age</th>\n",
       "      <th>Annual Income (k$)</th>\n",
       "      <th>Spending Score (1-100)</th>\n",
       "    </tr>\n",
       "  </thead>\n",
       "  <tbody>\n",
       "    <tr>\n",
       "      <th>0</th>\n",
       "      <td>19</td>\n",
       "      <td>15</td>\n",
       "      <td>39</td>\n",
       "    </tr>\n",
       "    <tr>\n",
       "      <th>1</th>\n",
       "      <td>21</td>\n",
       "      <td>15</td>\n",
       "      <td>81</td>\n",
       "    </tr>\n",
       "    <tr>\n",
       "      <th>2</th>\n",
       "      <td>20</td>\n",
       "      <td>16</td>\n",
       "      <td>6</td>\n",
       "    </tr>\n",
       "    <tr>\n",
       "      <th>3</th>\n",
       "      <td>23</td>\n",
       "      <td>16</td>\n",
       "      <td>77</td>\n",
       "    </tr>\n",
       "    <tr>\n",
       "      <th>4</th>\n",
       "      <td>31</td>\n",
       "      <td>17</td>\n",
       "      <td>40</td>\n",
       "    </tr>\n",
       "    <tr>\n",
       "      <th>...</th>\n",
       "      <td>...</td>\n",
       "      <td>...</td>\n",
       "      <td>...</td>\n",
       "    </tr>\n",
       "    <tr>\n",
       "      <th>195</th>\n",
       "      <td>35</td>\n",
       "      <td>120</td>\n",
       "      <td>79</td>\n",
       "    </tr>\n",
       "    <tr>\n",
       "      <th>196</th>\n",
       "      <td>45</td>\n",
       "      <td>126</td>\n",
       "      <td>28</td>\n",
       "    </tr>\n",
       "    <tr>\n",
       "      <th>197</th>\n",
       "      <td>32</td>\n",
       "      <td>126</td>\n",
       "      <td>74</td>\n",
       "    </tr>\n",
       "    <tr>\n",
       "      <th>198</th>\n",
       "      <td>32</td>\n",
       "      <td>137</td>\n",
       "      <td>18</td>\n",
       "    </tr>\n",
       "    <tr>\n",
       "      <th>199</th>\n",
       "      <td>30</td>\n",
       "      <td>137</td>\n",
       "      <td>83</td>\n",
       "    </tr>\n",
       "  </tbody>\n",
       "</table>\n",
       "<p>200 rows × 3 columns</p>\n",
       "</div>"
      ],
      "text/plain": [
       "     Age  Annual Income (k$)  Spending Score (1-100)\n",
       "0     19                  15                      39\n",
       "1     21                  15                      81\n",
       "2     20                  16                       6\n",
       "3     23                  16                      77\n",
       "4     31                  17                      40\n",
       "..   ...                 ...                     ...\n",
       "195   35                 120                      79\n",
       "196   45                 126                      28\n",
       "197   32                 126                      74\n",
       "198   32                 137                      18\n",
       "199   30                 137                      83\n",
       "\n",
       "[200 rows x 3 columns]"
      ]
     },
     "execution_count": 17,
     "metadata": {},
     "output_type": "execute_result"
    }
   ],
   "source": [
    "customer_df\n"
   ]
  },
  {
   "cell_type": "code",
   "execution_count": 18,
   "id": "e7bff500",
   "metadata": {},
   "outputs": [
    {
     "data": {
      "text/html": [
       "<style>#sk-container-id-1 {color: black;}#sk-container-id-1 pre{padding: 0;}#sk-container-id-1 div.sk-toggleable {background-color: white;}#sk-container-id-1 label.sk-toggleable__label {cursor: pointer;display: block;width: 100%;margin-bottom: 0;padding: 0.3em;box-sizing: border-box;text-align: center;}#sk-container-id-1 label.sk-toggleable__label-arrow:before {content: \"▸\";float: left;margin-right: 0.25em;color: #696969;}#sk-container-id-1 label.sk-toggleable__label-arrow:hover:before {color: black;}#sk-container-id-1 div.sk-estimator:hover label.sk-toggleable__label-arrow:before {color: black;}#sk-container-id-1 div.sk-toggleable__content {max-height: 0;max-width: 0;overflow: hidden;text-align: left;background-color: #f0f8ff;}#sk-container-id-1 div.sk-toggleable__content pre {margin: 0.2em;color: black;border-radius: 0.25em;background-color: #f0f8ff;}#sk-container-id-1 input.sk-toggleable__control:checked~div.sk-toggleable__content {max-height: 200px;max-width: 100%;overflow: auto;}#sk-container-id-1 input.sk-toggleable__control:checked~label.sk-toggleable__label-arrow:before {content: \"▾\";}#sk-container-id-1 div.sk-estimator input.sk-toggleable__control:checked~label.sk-toggleable__label {background-color: #d4ebff;}#sk-container-id-1 div.sk-label input.sk-toggleable__control:checked~label.sk-toggleable__label {background-color: #d4ebff;}#sk-container-id-1 input.sk-hidden--visually {border: 0;clip: rect(1px 1px 1px 1px);clip: rect(1px, 1px, 1px, 1px);height: 1px;margin: -1px;overflow: hidden;padding: 0;position: absolute;width: 1px;}#sk-container-id-1 div.sk-estimator {font-family: monospace;background-color: #f0f8ff;border: 1px dotted black;border-radius: 0.25em;box-sizing: border-box;margin-bottom: 0.5em;}#sk-container-id-1 div.sk-estimator:hover {background-color: #d4ebff;}#sk-container-id-1 div.sk-parallel-item::after {content: \"\";width: 100%;border-bottom: 1px solid gray;flex-grow: 1;}#sk-container-id-1 div.sk-label:hover label.sk-toggleable__label {background-color: #d4ebff;}#sk-container-id-1 div.sk-serial::before {content: \"\";position: absolute;border-left: 1px solid gray;box-sizing: border-box;top: 0;bottom: 0;left: 50%;z-index: 0;}#sk-container-id-1 div.sk-serial {display: flex;flex-direction: column;align-items: center;background-color: white;padding-right: 0.2em;padding-left: 0.2em;position: relative;}#sk-container-id-1 div.sk-item {position: relative;z-index: 1;}#sk-container-id-1 div.sk-parallel {display: flex;align-items: stretch;justify-content: center;background-color: white;position: relative;}#sk-container-id-1 div.sk-item::before, #sk-container-id-1 div.sk-parallel-item::before {content: \"\";position: absolute;border-left: 1px solid gray;box-sizing: border-box;top: 0;bottom: 0;left: 50%;z-index: -1;}#sk-container-id-1 div.sk-parallel-item {display: flex;flex-direction: column;z-index: 1;position: relative;background-color: white;}#sk-container-id-1 div.sk-parallel-item:first-child::after {align-self: flex-end;width: 50%;}#sk-container-id-1 div.sk-parallel-item:last-child::after {align-self: flex-start;width: 50%;}#sk-container-id-1 div.sk-parallel-item:only-child::after {width: 0;}#sk-container-id-1 div.sk-dashed-wrapped {border: 1px dashed gray;margin: 0 0.4em 0.5em 0.4em;box-sizing: border-box;padding-bottom: 0.4em;background-color: white;}#sk-container-id-1 div.sk-label label {font-family: monospace;font-weight: bold;display: inline-block;line-height: 1.2em;}#sk-container-id-1 div.sk-label-container {text-align: center;}#sk-container-id-1 div.sk-container {/* jupyter's `normalize.less` sets `[hidden] { display: none; }` but bootstrap.min.css set `[hidden] { display: none !important; }` so we also need the `!important` here to be able to override the default hidden behavior on the sphinx rendered scikit-learn.org. See: https://github.com/scikit-learn/scikit-learn/issues/21755 */display: inline-block !important;position: relative;}#sk-container-id-1 div.sk-text-repr-fallback {display: none;}</style><div id=\"sk-container-id-1\" class=\"sk-top-container\"><div class=\"sk-text-repr-fallback\"><pre>StandardScaler()</pre><b>In a Jupyter environment, please rerun this cell to show the HTML representation or trust the notebook. <br />On GitHub, the HTML representation is unable to render, please try loading this page with nbviewer.org.</b></div><div class=\"sk-container\" hidden><div class=\"sk-item\"><div class=\"sk-estimator sk-toggleable\"><input class=\"sk-toggleable__control sk-hidden--visually\" id=\"sk-estimator-id-1\" type=\"checkbox\" checked><label for=\"sk-estimator-id-1\" class=\"sk-toggleable__label sk-toggleable__label-arrow\">StandardScaler</label><div class=\"sk-toggleable__content\"><pre>StandardScaler()</pre></div></div></div></div></div>"
      ],
      "text/plain": [
       "StandardScaler()"
      ]
     },
     "execution_count": 18,
     "metadata": {},
     "output_type": "execute_result"
    }
   ],
   "source": [
    "from sklearn.preprocessing import StandardScaler\n",
    "scaler = StandardScaler()\n",
    "scaler.fit(customer_df)"
   ]
  },
  {
   "cell_type": "code",
   "execution_count": 19,
   "id": "48ba6a90",
   "metadata": {},
   "outputs": [
    {
     "data": {
      "text/plain": [
       "array([[-1.42456879, -1.73899919, -0.43480148],\n",
       "       [-1.28103541, -1.73899919,  1.19570407],\n",
       "       [-1.3528021 , -1.70082976, -1.71591298],\n",
       "       [-1.13750203, -1.70082976,  1.04041783],\n",
       "       [-0.56336851, -1.66266033, -0.39597992],\n",
       "       [-1.20926872, -1.66266033,  1.00159627],\n",
       "       [-0.27630176, -1.62449091, -1.71591298],\n",
       "       [-1.13750203, -1.62449091,  1.70038436],\n",
       "       [ 1.80493225, -1.58632148, -1.83237767],\n",
       "       [-0.6351352 , -1.58632148,  0.84631002],\n",
       "       [ 2.02023231, -1.58632148, -1.4053405 ],\n",
       "       [-0.27630176, -1.58632148,  1.89449216],\n",
       "       [ 1.37433211, -1.54815205, -1.36651894],\n",
       "       [-1.06573534, -1.54815205,  1.04041783],\n",
       "       [-0.13276838, -1.54815205, -1.44416206],\n",
       "       [-1.20926872, -1.54815205,  1.11806095],\n",
       "       [-0.27630176, -1.50998262, -0.59008772],\n",
       "       [-1.3528021 , -1.50998262,  0.61338066],\n",
       "       [ 0.94373197, -1.43364376, -0.82301709],\n",
       "       [-0.27630176, -1.43364376,  1.8556706 ],\n",
       "       [-0.27630176, -1.39547433, -0.59008772],\n",
       "       [-0.99396865, -1.39547433,  0.88513158],\n",
       "       [ 0.51313183, -1.3573049 , -1.75473454],\n",
       "       [-0.56336851, -1.3573049 ,  0.88513158],\n",
       "       [ 1.08726535, -1.24279661, -1.4053405 ],\n",
       "       [-0.70690189, -1.24279661,  1.23452563],\n",
       "       [ 0.44136514, -1.24279661, -0.7065524 ],\n",
       "       [-0.27630176, -1.24279661,  0.41927286],\n",
       "       [ 0.08253169, -1.20462718, -0.74537397],\n",
       "       [-1.13750203, -1.20462718,  1.42863343],\n",
       "       [ 1.51786549, -1.16645776, -1.7935561 ],\n",
       "       [-1.28103541, -1.16645776,  0.88513158],\n",
       "       [ 1.01549866, -1.05194947, -1.7935561 ],\n",
       "       [-1.49633548, -1.05194947,  1.62274124],\n",
       "       [ 0.7284319 , -1.05194947, -1.4053405 ],\n",
       "       [-1.28103541, -1.05194947,  1.19570407],\n",
       "       [ 0.22606507, -1.01378004, -1.28887582],\n",
       "       [-0.6351352 , -1.01378004,  0.88513158],\n",
       "       [-0.20453507, -0.89927175, -0.93948177],\n",
       "       [-1.3528021 , -0.89927175,  0.96277471],\n",
       "       [ 1.87669894, -0.86110232, -0.59008772],\n",
       "       [-1.06573534, -0.86110232,  1.62274124],\n",
       "       [ 0.65666521, -0.82293289, -0.55126616],\n",
       "       [-0.56336851, -0.82293289,  0.41927286],\n",
       "       [ 0.7284319 , -0.82293289, -0.86183865],\n",
       "       [-1.06573534, -0.82293289,  0.5745591 ],\n",
       "       [ 0.80019859, -0.78476346,  0.18634349],\n",
       "       [-0.85043527, -0.78476346, -0.12422899],\n",
       "       [-0.70690189, -0.78476346, -0.3183368 ],\n",
       "       [-0.56336851, -0.78476346, -0.3183368 ],\n",
       "       [ 0.7284319 , -0.70842461,  0.06987881],\n",
       "       [-0.41983513, -0.70842461,  0.38045129],\n",
       "       [-0.56336851, -0.67025518,  0.14752193],\n",
       "       [ 1.4460988 , -0.67025518,  0.38045129],\n",
       "       [ 0.80019859, -0.67025518, -0.20187212],\n",
       "       [ 0.58489852, -0.67025518, -0.35715836],\n",
       "       [ 0.87196528, -0.63208575, -0.00776431],\n",
       "       [ 2.16376569, -0.63208575, -0.16305055],\n",
       "       [-0.85043527, -0.55574689,  0.03105725],\n",
       "       [ 1.01549866, -0.55574689, -0.16305055],\n",
       "       [ 2.23553238, -0.55574689,  0.22516505],\n",
       "       [-1.42456879, -0.55574689,  0.18634349],\n",
       "       [ 2.02023231, -0.51757746,  0.06987881],\n",
       "       [ 1.08726535, -0.51757746,  0.34162973],\n",
       "       [ 1.73316556, -0.47940803,  0.03105725],\n",
       "       [-1.49633548, -0.47940803,  0.34162973],\n",
       "       [ 0.29783176, -0.47940803, -0.00776431],\n",
       "       [ 2.091999  , -0.47940803, -0.08540743],\n",
       "       [-1.42456879, -0.47940803,  0.34162973],\n",
       "       [-0.49160182, -0.47940803, -0.12422899],\n",
       "       [ 2.23553238, -0.4412386 ,  0.18634349],\n",
       "       [ 0.58489852, -0.4412386 , -0.3183368 ],\n",
       "       [ 1.51786549, -0.40306917, -0.04658587],\n",
       "       [ 1.51786549, -0.40306917,  0.22516505],\n",
       "       [ 1.4460988 , -0.25039146, -0.12422899],\n",
       "       [-0.92220196, -0.25039146,  0.14752193],\n",
       "       [ 0.44136514, -0.25039146,  0.10870037],\n",
       "       [ 0.08253169, -0.25039146, -0.08540743],\n",
       "       [-1.13750203, -0.25039146,  0.06987881],\n",
       "       [ 0.7284319 , -0.25039146, -0.3183368 ],\n",
       "       [ 1.30256542, -0.25039146,  0.03105725],\n",
       "       [-0.06100169, -0.25039146,  0.18634349],\n",
       "       [ 2.02023231, -0.25039146, -0.35715836],\n",
       "       [ 0.51313183, -0.25039146, -0.24069368],\n",
       "       [-1.28103541, -0.25039146,  0.26398661],\n",
       "       [ 0.65666521, -0.25039146, -0.16305055],\n",
       "       [ 1.15903204, -0.13588317,  0.30280817],\n",
       "       [-1.20926872, -0.13588317,  0.18634349],\n",
       "       [-0.34806844, -0.09771374,  0.38045129],\n",
       "       [ 0.80019859, -0.09771374, -0.16305055],\n",
       "       [ 2.091999  , -0.05954431,  0.18634349],\n",
       "       [-1.49633548, -0.05954431, -0.35715836],\n",
       "       [ 0.65666521, -0.02137488, -0.04658587],\n",
       "       [ 0.08253169, -0.02137488, -0.39597992],\n",
       "       [-0.49160182, -0.02137488, -0.3183368 ],\n",
       "       [-1.06573534, -0.02137488,  0.06987881],\n",
       "       [ 0.58489852, -0.02137488, -0.12422899],\n",
       "       [-0.85043527, -0.02137488, -0.00776431],\n",
       "       [ 0.65666521,  0.01679455, -0.3183368 ],\n",
       "       [-1.3528021 ,  0.01679455, -0.04658587],\n",
       "       [-1.13750203,  0.05496398, -0.35715836],\n",
       "       [ 0.7284319 ,  0.05496398, -0.08540743],\n",
       "       [ 2.02023231,  0.05496398,  0.34162973],\n",
       "       [-0.92220196,  0.05496398,  0.18634349],\n",
       "       [ 0.7284319 ,  0.05496398,  0.22516505],\n",
       "       [-1.28103541,  0.05496398, -0.3183368 ],\n",
       "       [ 1.94846562,  0.09313341, -0.00776431],\n",
       "       [ 1.08726535,  0.09313341, -0.16305055],\n",
       "       [ 2.091999  ,  0.09313341, -0.27951524],\n",
       "       [ 1.94846562,  0.09313341, -0.08540743],\n",
       "       [ 1.87669894,  0.09313341,  0.06987881],\n",
       "       [-1.42456879,  0.09313341,  0.14752193],\n",
       "       [-0.06100169,  0.13130284, -0.3183368 ],\n",
       "       [-1.42456879,  0.13130284, -0.16305055],\n",
       "       [-1.49633548,  0.16947227, -0.08540743],\n",
       "       [-1.42456879,  0.16947227, -0.00776431],\n",
       "       [ 1.73316556,  0.16947227, -0.27951524],\n",
       "       [ 0.7284319 ,  0.16947227,  0.34162973],\n",
       "       [ 0.87196528,  0.24581112, -0.27951524],\n",
       "       [ 0.80019859,  0.24581112,  0.26398661],\n",
       "       [-0.85043527,  0.24581112,  0.22516505],\n",
       "       [-0.06100169,  0.24581112, -0.39597992],\n",
       "       [ 0.08253169,  0.32214998,  0.30280817],\n",
       "       [ 0.010765  ,  0.32214998,  1.58391968],\n",
       "       [-1.13750203,  0.36031941, -0.82301709],\n",
       "       [-0.56336851,  0.36031941,  1.04041783],\n",
       "       [ 0.29783176,  0.39848884, -0.59008772],\n",
       "       [ 0.08253169,  0.39848884,  1.73920592],\n",
       "       [ 1.4460988 ,  0.39848884, -1.52180518],\n",
       "       [-0.06100169,  0.39848884,  0.96277471],\n",
       "       [ 0.58489852,  0.39848884, -1.5994483 ],\n",
       "       [ 0.010765  ,  0.39848884,  0.96277471],\n",
       "       [-0.99396865,  0.43665827, -0.62890928],\n",
       "       [-0.56336851,  0.43665827,  0.80748846],\n",
       "       [-1.3528021 ,  0.4748277 , -1.75473454],\n",
       "       [-0.70690189,  0.4748277 ,  1.46745499],\n",
       "       [ 0.36959845,  0.4748277 , -1.67709142],\n",
       "       [-0.49160182,  0.4748277 ,  0.88513158],\n",
       "       [-1.42456879,  0.51299713, -1.56062674],\n",
       "       [-0.27630176,  0.51299713,  0.84631002],\n",
       "       [ 1.30256542,  0.55116656, -1.75473454],\n",
       "       [-0.49160182,  0.55116656,  1.6615628 ],\n",
       "       [-0.77866858,  0.58933599, -0.39597992],\n",
       "       [-0.49160182,  0.58933599,  1.42863343],\n",
       "       [-0.99396865,  0.62750542, -1.48298362],\n",
       "       [-0.77866858,  0.62750542,  1.81684904],\n",
       "       [ 0.65666521,  0.62750542, -0.55126616],\n",
       "       [-0.49160182,  0.62750542,  0.92395314],\n",
       "       [-0.34806844,  0.66567484, -1.09476801],\n",
       "       [-0.34806844,  0.66567484,  1.54509812],\n",
       "       [ 0.29783176,  0.66567484, -1.28887582],\n",
       "       [ 0.010765  ,  0.66567484,  1.46745499],\n",
       "       [ 0.36959845,  0.66567484, -1.17241113],\n",
       "       [-0.06100169,  0.66567484,  1.00159627],\n",
       "       [ 0.58489852,  0.66567484, -1.32769738],\n",
       "       [-0.85043527,  0.66567484,  1.50627656],\n",
       "       [-0.13276838,  0.66567484, -1.91002079],\n",
       "       [-0.6351352 ,  0.66567484,  1.07923939],\n",
       "       [-0.34806844,  0.66567484, -1.91002079],\n",
       "       [-0.6351352 ,  0.66567484,  0.88513158],\n",
       "       [ 1.23079873,  0.70384427, -0.59008772],\n",
       "       [-0.70690189,  0.70384427,  1.27334719],\n",
       "       [-1.42456879,  0.78018313, -1.75473454],\n",
       "       [-0.56336851,  0.78018313,  1.6615628 ],\n",
       "       [ 0.80019859,  0.93286085, -0.93948177],\n",
       "       [-0.20453507,  0.93286085,  0.96277471],\n",
       "       [ 0.22606507,  0.97103028, -1.17241113],\n",
       "       [-0.41983513,  0.97103028,  1.73920592],\n",
       "       [-0.20453507,  1.00919971, -0.90066021],\n",
       "       [-0.49160182,  1.00919971,  0.49691598],\n",
       "       [ 0.08253169,  1.00919971, -1.44416206],\n",
       "       [-0.77866858,  1.00919971,  0.96277471],\n",
       "       [-0.20453507,  1.00919971, -1.56062674],\n",
       "       [-0.20453507,  1.00919971,  1.62274124],\n",
       "       [ 0.94373197,  1.04736914, -1.44416206],\n",
       "       [-0.6351352 ,  1.04736914,  1.38981187],\n",
       "       [ 1.37433211,  1.04736914, -1.36651894],\n",
       "       [-0.85043527,  1.04736914,  0.72984534],\n",
       "       [ 1.4460988 ,  1.23821628, -1.4053405 ],\n",
       "       [-0.27630176,  1.23821628,  1.54509812],\n",
       "       [-0.13276838,  1.390894  , -0.7065524 ],\n",
       "       [-0.49160182,  1.390894  ,  1.38981187],\n",
       "       [ 0.51313183,  1.42906343, -1.36651894],\n",
       "       [-0.70690189,  1.42906343,  1.46745499],\n",
       "       [ 0.15429838,  1.46723286, -0.43480148],\n",
       "       [-0.6351352 ,  1.46723286,  1.81684904],\n",
       "       [ 1.08726535,  1.54357172, -1.01712489],\n",
       "       [-0.77866858,  1.54357172,  0.69102378],\n",
       "       [ 0.15429838,  1.61991057, -1.28887582],\n",
       "       [-0.20453507,  1.61991057,  1.35099031],\n",
       "       [-0.34806844,  1.61991057, -1.05594645],\n",
       "       [-0.49160182,  1.61991057,  0.72984534],\n",
       "       [-0.41983513,  2.00160487, -1.63826986],\n",
       "       [-0.06100169,  2.00160487,  1.58391968],\n",
       "       [ 0.58489852,  2.26879087, -1.32769738],\n",
       "       [-0.27630176,  2.26879087,  1.11806095],\n",
       "       [ 0.44136514,  2.49780745, -0.86183865],\n",
       "       [-0.49160182,  2.49780745,  0.92395314],\n",
       "       [-0.49160182,  2.91767117, -1.25005425],\n",
       "       [-0.6351352 ,  2.91767117,  1.27334719]])"
      ]
     },
     "execution_count": 19,
     "metadata": {},
     "output_type": "execute_result"
    }
   ],
   "source": [
    "scaled_data = scaler.transform(customer_df)\n",
    "scaled_data"
   ]
  },
  {
   "cell_type": "code",
   "execution_count": 20,
   "id": "beefb3e1",
   "metadata": {},
   "outputs": [],
   "source": [
    "def find_best_clusters(df, maximum_K):\n",
    "    clusters_centers = []\n",
    "    k_values = []\n",
    "    for k in range(2, maximum_K):\n",
    "        kmeans_model = KMeans(n_clusters = k)\n",
    "        kmeans_model.fit(df)\n",
    "\n",
    "        clusters_centers.append(kmeans_model.inertia_)\n",
    "        k_values.append(k)\n",
    "\n",
    "    return clusters_centers, k_values"
   ]
  },
  {
   "cell_type": "code",
   "execution_count": 21,
   "id": "0389922a",
   "metadata": {},
   "outputs": [
    {
     "name": "stderr",
     "output_type": "stream",
     "text": [
      "A:\\anaconda\\Lib\\site-packages\\sklearn\\cluster\\_kmeans.py:1412: FutureWarning: The default value of `n_init` will change from 10 to 'auto' in 1.4. Set the value of `n_init` explicitly to suppress the warning\n",
      "  super()._check_params_vs_input(X, default_n_init=10)\n",
      "A:\\anaconda\\Lib\\site-packages\\sklearn\\cluster\\_kmeans.py:1436: UserWarning: KMeans is known to have a memory leak on Windows with MKL, when there are less chunks than available threads. You can avoid it by setting the environment variable OMP_NUM_THREADS=1.\n",
      "  warnings.warn(\n",
      "A:\\anaconda\\Lib\\site-packages\\sklearn\\cluster\\_kmeans.py:1412: FutureWarning: The default value of `n_init` will change from 10 to 'auto' in 1.4. Set the value of `n_init` explicitly to suppress the warning\n",
      "  super()._check_params_vs_input(X, default_n_init=10)\n",
      "A:\\anaconda\\Lib\\site-packages\\sklearn\\cluster\\_kmeans.py:1436: UserWarning: KMeans is known to have a memory leak on Windows with MKL, when there are less chunks than available threads. You can avoid it by setting the environment variable OMP_NUM_THREADS=1.\n",
      "  warnings.warn(\n",
      "A:\\anaconda\\Lib\\site-packages\\sklearn\\cluster\\_kmeans.py:1412: FutureWarning: The default value of `n_init` will change from 10 to 'auto' in 1.4. Set the value of `n_init` explicitly to suppress the warning\n",
      "  super()._check_params_vs_input(X, default_n_init=10)\n",
      "A:\\anaconda\\Lib\\site-packages\\sklearn\\cluster\\_kmeans.py:1436: UserWarning: KMeans is known to have a memory leak on Windows with MKL, when there are less chunks than available threads. You can avoid it by setting the environment variable OMP_NUM_THREADS=1.\n",
      "  warnings.warn(\n",
      "A:\\anaconda\\Lib\\site-packages\\sklearn\\cluster\\_kmeans.py:1412: FutureWarning: The default value of `n_init` will change from 10 to 'auto' in 1.4. Set the value of `n_init` explicitly to suppress the warning\n",
      "  super()._check_params_vs_input(X, default_n_init=10)\n",
      "A:\\anaconda\\Lib\\site-packages\\sklearn\\cluster\\_kmeans.py:1436: UserWarning: KMeans is known to have a memory leak on Windows with MKL, when there are less chunks than available threads. You can avoid it by setting the environment variable OMP_NUM_THREADS=1.\n",
      "  warnings.warn(\n",
      "A:\\anaconda\\Lib\\site-packages\\sklearn\\cluster\\_kmeans.py:1412: FutureWarning: The default value of `n_init` will change from 10 to 'auto' in 1.4. Set the value of `n_init` explicitly to suppress the warning\n",
      "  super()._check_params_vs_input(X, default_n_init=10)\n",
      "A:\\anaconda\\Lib\\site-packages\\sklearn\\cluster\\_kmeans.py:1436: UserWarning: KMeans is known to have a memory leak on Windows with MKL, when there are less chunks than available threads. You can avoid it by setting the environment variable OMP_NUM_THREADS=1.\n",
      "  warnings.warn(\n",
      "A:\\anaconda\\Lib\\site-packages\\sklearn\\cluster\\_kmeans.py:1412: FutureWarning: The default value of `n_init` will change from 10 to 'auto' in 1.4. Set the value of `n_init` explicitly to suppress the warning\n",
      "  super()._check_params_vs_input(X, default_n_init=10)\n",
      "A:\\anaconda\\Lib\\site-packages\\sklearn\\cluster\\_kmeans.py:1436: UserWarning: KMeans is known to have a memory leak on Windows with MKL, when there are less chunks than available threads. You can avoid it by setting the environment variable OMP_NUM_THREADS=1.\n",
      "  warnings.warn(\n",
      "A:\\anaconda\\Lib\\site-packages\\sklearn\\cluster\\_kmeans.py:1412: FutureWarning: The default value of `n_init` will change from 10 to 'auto' in 1.4. Set the value of `n_init` explicitly to suppress the warning\n",
      "  super()._check_params_vs_input(X, default_n_init=10)\n",
      "A:\\anaconda\\Lib\\site-packages\\sklearn\\cluster\\_kmeans.py:1436: UserWarning: KMeans is known to have a memory leak on Windows with MKL, when there are less chunks than available threads. You can avoid it by setting the environment variable OMP_NUM_THREADS=1.\n",
      "  warnings.warn(\n",
      "A:\\anaconda\\Lib\\site-packages\\sklearn\\cluster\\_kmeans.py:1412: FutureWarning: The default value of `n_init` will change from 10 to 'auto' in 1.4. Set the value of `n_init` explicitly to suppress the warning\n",
      "  super()._check_params_vs_input(X, default_n_init=10)\n",
      "A:\\anaconda\\Lib\\site-packages\\sklearn\\cluster\\_kmeans.py:1436: UserWarning: KMeans is known to have a memory leak on Windows with MKL, when there are less chunks than available threads. You can avoid it by setting the environment variable OMP_NUM_THREADS=1.\n",
      "  warnings.warn(\n",
      "A:\\anaconda\\Lib\\site-packages\\sklearn\\cluster\\_kmeans.py:1412: FutureWarning: The default value of `n_init` will change from 10 to 'auto' in 1.4. Set the value of `n_init` explicitly to suppress the warning\n",
      "  super()._check_params_vs_input(X, default_n_init=10)\n",
      "A:\\anaconda\\Lib\\site-packages\\sklearn\\cluster\\_kmeans.py:1436: UserWarning: KMeans is known to have a memory leak on Windows with MKL, when there are less chunks than available threads. You can avoid it by setting the environment variable OMP_NUM_THREADS=1.\n",
      "  warnings.warn(\n",
      "A:\\anaconda\\Lib\\site-packages\\sklearn\\cluster\\_kmeans.py:1412: FutureWarning: The default value of `n_init` will change from 10 to 'auto' in 1.4. Set the value of `n_init` explicitly to suppress the warning\n",
      "  super()._check_params_vs_input(X, default_n_init=10)\n",
      "A:\\anaconda\\Lib\\site-packages\\sklearn\\cluster\\_kmeans.py:1436: UserWarning: KMeans is known to have a memory leak on Windows with MKL, when there are less chunks than available threads. You can avoid it by setting the environment variable OMP_NUM_THREADS=1.\n",
      "  warnings.warn(\n"
     ]
    }
   ],
   "source": [
    "clusters_centers, k_values = find_best_clusters(scaled_data, 12)"
   ]
  },
  {
   "cell_type": "code",
   "execution_count": 22,
   "id": "3af58b77",
   "metadata": {},
   "outputs": [],
   "source": [
    "def generate_elbow_plot(clusters_centers, k_values):\n",
    "    \n",
    "    figure = plt.subplots(figsize = (12, 6))\n",
    "    plt.plot(k_values, clusters_centers, 'o-', color = 'orange')\n",
    "    plt.xlabel(\"Number of Clusters (K)\")\n",
    "    plt.ylabel(\"Cluster Inertia\")\n",
    "    plt.title(\"Elbow Plot of KMeans\")\n",
    "    plt.show()"
   ]
  },
  {
   "cell_type": "code",
   "execution_count": 23,
   "id": "299064d6",
   "metadata": {},
   "outputs": [
    {
     "data": {
      "image/png": "[encoded data removed]",
      "text/plain": [
       "<Figure size 1200x600 with 1 Axes>"
      ]
     },
     "metadata": {},
     "output_type": "display_data"
    }
   ],
   "source": [
    "generate_elbow_plot(clusters_centers, k_values)"
   ]
  },
  {
   "cell_type": "code",
   "execution_count": 24,
   "id": "4cc5a3a3",
   "metadata": {},
   "outputs": [],
   "source": [
    "kmeans_model = KMeans(n_clusters = 5)\n"
   ]
  },
  {
   "cell_type": "code",
   "execution_count": 25,
   "id": "a3fea97a",
   "metadata": {},
   "outputs": [
    {
     "name": "stderr",
     "output_type": "stream",
     "text": [
      "A:\\anaconda\\Lib\\site-packages\\sklearn\\cluster\\_kmeans.py:1412: FutureWarning: The default value of `n_init` will change from 10 to 'auto' in 1.4. Set the value of `n_init` explicitly to suppress the warning\n",
      "  super()._check_params_vs_input(X, default_n_init=10)\n",
      "A:\\anaconda\\Lib\\site-packages\\sklearn\\cluster\\_kmeans.py:1436: UserWarning: KMeans is known to have a memory leak on Windows with MKL, when there are less chunks than available threads. You can avoid it by setting the environment variable OMP_NUM_THREADS=1.\n",
      "  warnings.warn(\n"
     ]
    },
    {
     "data": {
      "text/html": [
       "<style>#sk-container-id-2 {color: black;}#sk-container-id-2 pre{padding: 0;}#sk-container-id-2 div.sk-toggleable {background-color: white;}#sk-container-id-2 label.sk-toggleable__label {cursor: pointer;display: block;width: 100%;margin-bottom: 0;padding: 0.3em;box-sizing: border-box;text-align: center;}#sk-container-id-2 label.sk-toggleable__label-arrow:before {content: \"▸\";float: left;margin-right: 0.25em;color: #696969;}#sk-container-id-2 label.sk-toggleable__label-arrow:hover:before {color: black;}#sk-container-id-2 div.sk-estimator:hover label.sk-toggleable__label-arrow:before {color: black;}#sk-container-id-2 div.sk-toggleable__content {max-height: 0;max-width: 0;overflow: hidden;text-align: left;background-color: #f0f8ff;}#sk-container-id-2 div.sk-toggleable__content pre {margin: 0.2em;color: black;border-radius: 0.25em;background-color: #f0f8ff;}#sk-container-id-2 input.sk-toggleable__control:checked~div.sk-toggleable__content {max-height: 200px;max-width: 100%;overflow: auto;}#sk-container-id-2 input.sk-toggleable__control:checked~label.sk-toggleable__label-arrow:before {content: \"▾\";}#sk-container-id-2 div.sk-estimator input.sk-toggleable__control:checked~label.sk-toggleable__label {background-color: #d4ebff;}#sk-container-id-2 div.sk-label input.sk-toggleable__control:checked~label.sk-toggleable__label {background-color: #d4ebff;}#sk-container-id-2 input.sk-hidden--visually {border: 0;clip: rect(1px 1px 1px 1px);clip: rect(1px, 1px, 1px, 1px);height: 1px;margin: -1px;overflow: hidden;padding: 0;position: absolute;width: 1px;}#sk-container-id-2 div.sk-estimator {font-family: monospace;background-color: #f0f8ff;border: 1px dotted black;border-radius: 0.25em;box-sizing: border-box;margin-bottom: 0.5em;}#sk-container-id-2 div.sk-estimator:hover {background-color: #d4ebff;}#sk-container-id-2 div.sk-parallel-item::after {content: \"\";width: 100%;border-bottom: 1px solid gray;flex-grow: 1;}#sk-container-id-2 div.sk-label:hover label.sk-toggleable__label {background-color: #d4ebff;}#sk-container-id-2 div.sk-serial::before {content: \"\";position: absolute;border-left: 1px solid gray;box-sizing: border-box;top: 0;bottom: 0;left: 50%;z-index: 0;}#sk-container-id-2 div.sk-serial {display: flex;flex-direction: column;align-items: center;background-color: white;padding-right: 0.2em;padding-left: 0.2em;position: relative;}#sk-container-id-2 div.sk-item {position: relative;z-index: 1;}#sk-container-id-2 div.sk-parallel {display: flex;align-items: stretch;justify-content: center;background-color: white;position: relative;}#sk-container-id-2 div.sk-item::before, #sk-container-id-2 div.sk-parallel-item::before {content: \"\";position: absolute;border-left: 1px solid gray;box-sizing: border-box;top: 0;bottom: 0;left: 50%;z-index: -1;}#sk-container-id-2 div.sk-parallel-item {display: flex;flex-direction: column;z-index: 1;position: relative;background-color: white;}#sk-container-id-2 div.sk-parallel-item:first-child::after {align-self: flex-end;width: 50%;}#sk-container-id-2 div.sk-parallel-item:last-child::after {align-self: flex-start;width: 50%;}#sk-container-id-2 div.sk-parallel-item:only-child::after {width: 0;}#sk-container-id-2 div.sk-dashed-wrapped {border: 1px dashed gray;margin: 0 0.4em 0.5em 0.4em;box-sizing: border-box;padding-bottom: 0.4em;background-color: white;}#sk-container-id-2 div.sk-label label {font-family: monospace;font-weight: bold;display: inline-block;line-height: 1.2em;}#sk-container-id-2 div.sk-label-container {text-align: center;}#sk-container-id-2 div.sk-container {/* jupyter's `normalize.less` sets `[hidden] { display: none; }` but bootstrap.min.css set `[hidden] { display: none !important; }` so we also need the `!important` here to be able to override the default hidden behavior on the sphinx rendered scikit-learn.org. See: https://github.com/scikit-learn/scikit-learn/issues/21755 */display: inline-block !important;position: relative;}#sk-container-id-2 div.sk-text-repr-fallback {display: none;}</style><div id=\"sk-container-id-2\" class=\"sk-top-container\"><div class=\"sk-text-repr-fallback\"><pre>KMeans(n_clusters=5)</pre><b>In a Jupyter environment, please rerun this cell to show the HTML representation or trust the notebook. <br />On GitHub, the HTML representation is unable to render, please try loading this page with nbviewer.org.</b></div><div class=\"sk-container\" hidden><div class=\"sk-item\"><div class=\"sk-estimator sk-toggleable\"><input class=\"sk-toggleable__control sk-hidden--visually\" id=\"sk-estimator-id-2\" type=\"checkbox\" checked><label for=\"sk-estimator-id-2\" class=\"sk-toggleable__label sk-toggleable__label-arrow\">KMeans</label><div class=\"sk-toggleable__content\"><pre>KMeans(n_clusters=5)</pre></div></div></div></div></div>"
      ],
      "text/plain": [
       "KMeans(n_clusters=5)"
      ]
     },
     "execution_count": 25,
     "metadata": {},
     "output_type": "execute_result"
    }
   ],
   "source": [
    "kmeans_model.fit(scaled_data)"
   ]
  },
  {
   "cell_type": "code",
   "execution_count": 26,
   "id": "82909135",
   "metadata": {},
   "outputs": [
    {
     "data": {
      "text/html": [
       "<div>\n",
       "<style scoped>\n",
       "    .dataframe tbody tr th:only-of-type {\n",
       "        vertical-align: middle;\n",
       "    }\n",
       "\n",
       "    .dataframe tbody tr th {\n",
       "        vertical-align: top;\n",
       "    }\n",
       "\n",
       "    .dataframe thead th {\n",
       "        text-align: right;\n",
       "    }\n",
       "</style>\n",
       "<table border=\"1\" class=\"dataframe\">\n",
       "  <thead>\n",
       "    <tr style=\"text-align: right;\">\n",
       "      <th></th>\n",
       "      <th>CustomerID</th>\n",
       "      <th>Gender</th>\n",
       "      <th>Age</th>\n",
       "      <th>Annual Income (k$)</th>\n",
       "      <th>Spending Score (1-100)</th>\n",
       "      <th>clusters</th>\n",
       "    </tr>\n",
       "  </thead>\n",
       "  <tbody>\n",
       "    <tr>\n",
       "      <th>0</th>\n",
       "      <td>1</td>\n",
       "      <td>Male</td>\n",
       "      <td>19</td>\n",
       "      <td>15</td>\n",
       "      <td>39</td>\n",
       "      <td>4</td>\n",
       "    </tr>\n",
       "    <tr>\n",
       "      <th>1</th>\n",
       "      <td>2</td>\n",
       "      <td>Male</td>\n",
       "      <td>21</td>\n",
       "      <td>15</td>\n",
       "      <td>81</td>\n",
       "      <td>4</td>\n",
       "    </tr>\n",
       "    <tr>\n",
       "      <th>2</th>\n",
       "      <td>3</td>\n",
       "      <td>Female</td>\n",
       "      <td>20</td>\n",
       "      <td>16</td>\n",
       "      <td>6</td>\n",
       "      <td>0</td>\n",
       "    </tr>\n",
       "    <tr>\n",
       "      <th>3</th>\n",
       "      <td>4</td>\n",
       "      <td>Female</td>\n",
       "      <td>23</td>\n",
       "      <td>16</td>\n",
       "      <td>77</td>\n",
       "      <td>4</td>\n",
       "    </tr>\n",
       "    <tr>\n",
       "      <th>4</th>\n",
       "      <td>5</td>\n",
       "      <td>Female</td>\n",
       "      <td>31</td>\n",
       "      <td>17</td>\n",
       "      <td>40</td>\n",
       "      <td>4</td>\n",
       "    </tr>\n",
       "    <tr>\n",
       "      <th>...</th>\n",
       "      <td>...</td>\n",
       "      <td>...</td>\n",
       "      <td>...</td>\n",
       "      <td>...</td>\n",
       "      <td>...</td>\n",
       "      <td>...</td>\n",
       "    </tr>\n",
       "    <tr>\n",
       "      <th>195</th>\n",
       "      <td>196</td>\n",
       "      <td>Female</td>\n",
       "      <td>35</td>\n",
       "      <td>120</td>\n",
       "      <td>79</td>\n",
       "      <td>2</td>\n",
       "    </tr>\n",
       "    <tr>\n",
       "      <th>196</th>\n",
       "      <td>197</td>\n",
       "      <td>Female</td>\n",
       "      <td>45</td>\n",
       "      <td>126</td>\n",
       "      <td>28</td>\n",
       "      <td>3</td>\n",
       "    </tr>\n",
       "    <tr>\n",
       "      <th>197</th>\n",
       "      <td>198</td>\n",
       "      <td>Male</td>\n",
       "      <td>32</td>\n",
       "      <td>126</td>\n",
       "      <td>74</td>\n",
       "      <td>2</td>\n",
       "    </tr>\n",
       "    <tr>\n",
       "      <th>198</th>\n",
       "      <td>199</td>\n",
       "      <td>Male</td>\n",
       "      <td>32</td>\n",
       "      <td>137</td>\n",
       "      <td>18</td>\n",
       "      <td>3</td>\n",
       "    </tr>\n",
       "    <tr>\n",
       "      <th>199</th>\n",
       "      <td>200</td>\n",
       "      <td>Male</td>\n",
       "      <td>30</td>\n",
       "      <td>137</td>\n",
       "      <td>83</td>\n",
       "      <td>2</td>\n",
       "    </tr>\n",
       "  </tbody>\n",
       "</table>\n",
       "<p>200 rows × 6 columns</p>\n",
       "</div>"
      ],
      "text/plain": [
       "     CustomerID  Gender  Age  Annual Income (k$)  Spending Score (1-100)  \\\n",
       "0             1    Male   19                  15                      39   \n",
       "1             2    Male   21                  15                      81   \n",
       "2             3  Female   20                  16                       6   \n",
       "3             4  Female   23                  16                      77   \n",
       "4             5  Female   31                  17                      40   \n",
       "..          ...     ...  ...                 ...                     ...   \n",
       "195         196  Female   35                 120                      79   \n",
       "196         197  Female   45                 126                      28   \n",
       "197         198    Male   32                 126                      74   \n",
       "198         199    Male   32                 137                      18   \n",
       "199         200    Male   30                 137                      83   \n",
       "\n",
       "     clusters  \n",
       "0           4  \n",
       "1           4  \n",
       "2           0  \n",
       "3           4  \n",
       "4           4  \n",
       "..        ...  \n",
       "195         2  \n",
       "196         3  \n",
       "197         2  \n",
       "198         3  \n",
       "199         2  \n",
       "\n",
       "[200 rows x 6 columns]"
      ]
     },
     "execution_count": 26,
     "metadata": {},
     "output_type": "execute_result"
    }
   ],
   "source": [
    "df[\"clusters\"] = kmeans_model.labels_\n",
    "df"
   ]
  },
  {
   "cell_type": "code",
   "execution_count": 27,
   "id": "28c47fcd",
   "metadata": {},
   "outputs": [
    {
     "data": {
      "text/plain": [
       "<matplotlib.collections.PathCollection at 0x1b939e85d10>"
      ]
     },
     "execution_count": 27,
     "metadata": {},
     "output_type": "execute_result"
    },
    {
     "data": {
      "image/png": "[encoded data removed]",
      "text/plain": [
       "<Figure size 640x480 with 1 Axes>"
      ]
     },
     "metadata": {},
     "output_type": "display_data"
    }
   ],
   "source": [
    "plt.scatter(df[\"Spending Score (1-100)\"], \n",
    "            df[\"Annual Income (k$)\"], \n",
    "            c = df[\"clusters\"]\n",
    "            )"
   ]
  },
  {
   "cell_type": "code",
   "execution_count": null,
   "id": "cf86cf01",
   "metadata": {},
   "outputs": [],
   "source": []
  }
 ],
 "metadata": {
  "kernelspec": {
   "display_name": "Python 3 (ipykernel)",
   "language": "python",
   "name": "python3"
  },
  "language_info": {
   "codemirror_mode": {
    "name": "ipython",
    "version": 3
   },
   "file_extension": ".py",
   "mimetype": "text/x-python",
   "name": "python",
   "nbconvert_exporter": "python",
   "pygments_lexer": "ipython3",
   "version": "3.11.5"
  }
 },
 "nbformat": 4,
 "nbformat_minor": 5
}
